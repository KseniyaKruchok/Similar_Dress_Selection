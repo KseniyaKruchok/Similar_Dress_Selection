{
 "cells": [
  {
   "cell_type": "markdown",
   "metadata": {},
   "source": [
    "## Image sizing\n",
    "\n",
    "After constructing the dataframe of attributes in question (see Data Selection notebook), it is now time to work with images directly. In this notebook I will select and copy to separate folders images of the dresses I will be working with, both low and high resolution. \n",
    "\n",
    "In working with images in deep learning it is essential to use the same size of the input images. I will start building models using low resolution images to save on time, therefore here I explore actual dimentions of both types of images to figure out common sizes to use for modelling."
   ]
  },
  {
   "cell_type": "code",
   "execution_count": 1,
   "metadata": {},
   "outputs": [],
   "source": [
    "# import necessary packages\n",
    "import pandas as pd\n",
    "import matplotlib.pyplot as plt\n",
    "from PIL import Image\n",
    "import seaborn as sns\n",
    "from time import sleep\n",
    "from tqdm import tqdm"
   ]
  },
  {
   "cell_type": "code",
   "execution_count": 2,
   "metadata": {
    "scrolled": true
   },
   "outputs": [
    {
     "data": {
      "text/html": [
       "<div>\n",
       "<style scoped>\n",
       "    .dataframe tbody tr th:only-of-type {\n",
       "        vertical-align: middle;\n",
       "    }\n",
       "\n",
       "    .dataframe tbody tr th {\n",
       "        vertical-align: top;\n",
       "    }\n",
       "\n",
       "    .dataframe thead th {\n",
       "        text-align: right;\n",
       "    }\n",
       "</style>\n",
       "<table border=\"1\" class=\"dataframe\">\n",
       "  <thead>\n",
       "    <tr style=\"text-align: right;\">\n",
       "      <th></th>\n",
       "      <th>url</th>\n",
       "      <th>maxi</th>\n",
       "      <th>midi</th>\n",
       "      <th>mini</th>\n",
       "      <th>sleeve</th>\n",
       "      <th>sleeveless</th>\n",
       "      <th>long sleeve</th>\n",
       "      <th>bodycon</th>\n",
       "      <th>fit</th>\n",
       "      <th>flare</th>\n",
       "      <th>...</th>\n",
       "      <th>chiffon</th>\n",
       "      <th>floral lace</th>\n",
       "      <th>cotton</th>\n",
       "      <th>denim</th>\n",
       "      <th>mesh</th>\n",
       "      <th>beaded</th>\n",
       "      <th>textured</th>\n",
       "      <th>trim</th>\n",
       "      <th>pleated</th>\n",
       "      <th>sheer</th>\n",
       "    </tr>\n",
       "  </thead>\n",
       "  <tbody>\n",
       "    <tr>\n",
       "      <th>0</th>\n",
       "      <td>img/Open-Knit_High-Slit_Maxi_Dress/img_0000000...</td>\n",
       "      <td>1</td>\n",
       "      <td>0</td>\n",
       "      <td>0</td>\n",
       "      <td>0</td>\n",
       "      <td>0</td>\n",
       "      <td>0</td>\n",
       "      <td>0</td>\n",
       "      <td>0</td>\n",
       "      <td>0</td>\n",
       "      <td>...</td>\n",
       "      <td>0</td>\n",
       "      <td>0</td>\n",
       "      <td>0</td>\n",
       "      <td>0</td>\n",
       "      <td>0</td>\n",
       "      <td>0</td>\n",
       "      <td>0</td>\n",
       "      <td>0</td>\n",
       "      <td>0</td>\n",
       "      <td>0</td>\n",
       "    </tr>\n",
       "    <tr>\n",
       "      <th>1</th>\n",
       "      <td>img/Open-Knit_High-Slit_Maxi_Dress/img_0000000...</td>\n",
       "      <td>1</td>\n",
       "      <td>0</td>\n",
       "      <td>0</td>\n",
       "      <td>0</td>\n",
       "      <td>0</td>\n",
       "      <td>0</td>\n",
       "      <td>0</td>\n",
       "      <td>0</td>\n",
       "      <td>0</td>\n",
       "      <td>...</td>\n",
       "      <td>0</td>\n",
       "      <td>0</td>\n",
       "      <td>0</td>\n",
       "      <td>0</td>\n",
       "      <td>0</td>\n",
       "      <td>0</td>\n",
       "      <td>0</td>\n",
       "      <td>0</td>\n",
       "      <td>0</td>\n",
       "      <td>0</td>\n",
       "    </tr>\n",
       "    <tr>\n",
       "      <th>2</th>\n",
       "      <td>img/Open-Knit_High-Slit_Maxi_Dress/img_0000000...</td>\n",
       "      <td>1</td>\n",
       "      <td>0</td>\n",
       "      <td>0</td>\n",
       "      <td>0</td>\n",
       "      <td>0</td>\n",
       "      <td>0</td>\n",
       "      <td>0</td>\n",
       "      <td>0</td>\n",
       "      <td>0</td>\n",
       "      <td>...</td>\n",
       "      <td>0</td>\n",
       "      <td>0</td>\n",
       "      <td>0</td>\n",
       "      <td>0</td>\n",
       "      <td>0</td>\n",
       "      <td>0</td>\n",
       "      <td>0</td>\n",
       "      <td>0</td>\n",
       "      <td>0</td>\n",
       "      <td>0</td>\n",
       "    </tr>\n",
       "    <tr>\n",
       "      <th>3</th>\n",
       "      <td>img/Open-Knit_High-Slit_Maxi_Dress/img_0000000...</td>\n",
       "      <td>1</td>\n",
       "      <td>0</td>\n",
       "      <td>0</td>\n",
       "      <td>0</td>\n",
       "      <td>0</td>\n",
       "      <td>0</td>\n",
       "      <td>0</td>\n",
       "      <td>0</td>\n",
       "      <td>0</td>\n",
       "      <td>...</td>\n",
       "      <td>0</td>\n",
       "      <td>0</td>\n",
       "      <td>0</td>\n",
       "      <td>0</td>\n",
       "      <td>0</td>\n",
       "      <td>0</td>\n",
       "      <td>0</td>\n",
       "      <td>0</td>\n",
       "      <td>0</td>\n",
       "      <td>0</td>\n",
       "    </tr>\n",
       "    <tr>\n",
       "      <th>4</th>\n",
       "      <td>img/Open-Knit_High-Slit_Maxi_Dress/img_0000000...</td>\n",
       "      <td>1</td>\n",
       "      <td>0</td>\n",
       "      <td>0</td>\n",
       "      <td>0</td>\n",
       "      <td>0</td>\n",
       "      <td>0</td>\n",
       "      <td>0</td>\n",
       "      <td>0</td>\n",
       "      <td>0</td>\n",
       "      <td>...</td>\n",
       "      <td>0</td>\n",
       "      <td>0</td>\n",
       "      <td>0</td>\n",
       "      <td>0</td>\n",
       "      <td>0</td>\n",
       "      <td>0</td>\n",
       "      <td>0</td>\n",
       "      <td>0</td>\n",
       "      <td>0</td>\n",
       "      <td>0</td>\n",
       "    </tr>\n",
       "  </tbody>\n",
       "</table>\n",
       "<p>5 rows × 39 columns</p>\n",
       "</div>"
      ],
      "text/plain": [
       "                                                 url  maxi  midi  mini  \\\n",
       "0  img/Open-Knit_High-Slit_Maxi_Dress/img_0000000...     1     0     0   \n",
       "1  img/Open-Knit_High-Slit_Maxi_Dress/img_0000000...     1     0     0   \n",
       "2  img/Open-Knit_High-Slit_Maxi_Dress/img_0000000...     1     0     0   \n",
       "3  img/Open-Knit_High-Slit_Maxi_Dress/img_0000000...     1     0     0   \n",
       "4  img/Open-Knit_High-Slit_Maxi_Dress/img_0000000...     1     0     0   \n",
       "\n",
       "   sleeve  sleeveless  long sleeve  bodycon  fit  flare  ...  chiffon  \\\n",
       "0       0           0            0        0    0      0  ...        0   \n",
       "1       0           0            0        0    0      0  ...        0   \n",
       "2       0           0            0        0    0      0  ...        0   \n",
       "3       0           0            0        0    0      0  ...        0   \n",
       "4       0           0            0        0    0      0  ...        0   \n",
       "\n",
       "   floral lace  cotton  denim  mesh  beaded  textured  trim  pleated  sheer  \n",
       "0            0       0      0     0       0         0     0        0      0  \n",
       "1            0       0      0     0       0         0     0        0      0  \n",
       "2            0       0      0     0       0         0     0        0      0  \n",
       "3            0       0      0     0       0         0     0        0      0  \n",
       "4            0       0      0     0       0         0     0        0      0  \n",
       "\n",
       "[5 rows x 39 columns]"
      ]
     },
     "execution_count": 2,
     "metadata": {},
     "output_type": "execute_result"
    }
   ],
   "source": [
    "# load dataframe of attributes\n",
    "dresses = pd.read_csv('data/dress_attributes.csv', header=0)\n",
    "dresses.drop('Unnamed: 0', axis=1, inplace=True)\n",
    "dresses.head()"
   ]
  },
  {
   "cell_type": "markdown",
   "metadata": {},
   "source": [
    "Right now both folder for low and high resolution images contain the photos for all clothing categories. However, I will only need selected dresses. I will move them in separate folder and label as per index in dataframe for further simlicity."
   ]
  },
  {
   "cell_type": "code",
   "execution_count": 24,
   "metadata": {},
   "outputs": [],
   "source": [
    "# select low res dress images from all images\n",
    "for i in range(len(dresses)):\n",
    "    url = dresses.loc[i,'url']\n",
    "    ext = url.split('.')[1]\n",
    "    img = Image.open('data/img/' + url)\n",
    "    img = img.convert('RGB')\n",
    "    img.save('data/dress_images_lr/' + str(i) + '.' + ext)\n",
    "    del img"
   ]
  },
  {
   "cell_type": "markdown",
   "metadata": {},
   "source": [
    "When the file is read with pyplot function imread() it is being transformed in 3D numpy array. Two first dimensions correspond to length and width and the third one to the values of three colors: red, green and blue (RGB) that build up a color image.\n",
    "\n",
    "I will put the image shapes into a separate dataframe to be able to check for the average sizes."
   ]
  },
  {
   "cell_type": "code",
   "execution_count": 3,
   "metadata": {},
   "outputs": [
    {
     "name": "stderr",
     "output_type": "stream",
     "text": [
      "100%|██████████| 61414/61414 [17:09<00:00, 59.68it/s]\n"
     ]
    }
   ],
   "source": [
    "# initiate dataframe with all zeroes\n",
    "shapes = pd.DataFrame(0, index=range(len(dresses)), columns=[0,1,2])\n",
    "\n",
    "# read each image and save its shape\n",
    "for i in tqdm(range(len(dresses))):\n",
    "    sleep(0.01)\n",
    "    img = plt.imread('data/img/' + dresses.loc[i,'url'])\n",
    "    shapes.loc[i,:]=list(img.shape)\n",
    "    del img"
   ]
  },
  {
   "cell_type": "code",
   "execution_count": 4,
   "metadata": {
    "scrolled": true
   },
   "outputs": [
    {
     "data": {
      "image/png": "[encoded data removed]",
      "text/plain": [
       "<Figure size 432x288 with 1 Axes>"
      ]
     },
     "metadata": {
      "needs_background": "light"
     },
     "output_type": "display_data"
    }
   ],
   "source": [
    "# build kde plot for height and width\n",
    "ax = plt.subplot()\n",
    "sns.kdeplot(data=shapes.loc[:,0],ax=ax, label='height')\n",
    "sns.kdeplot(data=shapes.loc[:,1], ax=ax, label='width')\n",
    "plt.show()"
   ]
  },
  {
   "cell_type": "markdown",
   "metadata": {},
   "source": [
    "Looks like a large number of low resolution images are about 300 pixels high. The variation it width is larger. As it was shown in Data_Selection notebook, most images have a portrait orientation (which seems logical for dress images). The graph above shows picks at 200 pixels for width and I think the size of 300x200 pixels can be a good start.\n",
    "\n",
    "Let's now load high res images and perform similar size analysis."
   ]
  },
  {
   "cell_type": "code",
   "execution_count": 14,
   "metadata": {},
   "outputs": [
    {
     "name": "stderr",
     "output_type": "stream",
     "text": [
      "\n",
      "\n",
      "\n",
      "  1%|          | 748/61414 [00:40<29:34, 34.19it/s]C:\\Users\\ksushka\\Anaconda3\\lib\\site-packages\\PIL\\TiffImagePlugin.py:754: UserWarning: Possibly corrupt EXIF data.  Expecting to read 8552 bytes but only got 8356. Skipping tag 37500\n",
      "  \" Skipping tag %s\" % (size, len(data), tag))\n"
     ]
    }
   ],
   "source": [
    "# select high res dress images from all images\n",
    "for i in range(len(dresses)):\n",
    "    url = dresses.loc[i,'url']\n",
    "    ext = url.split('.')[1]\n",
    "    img = Image.open(url)\n",
    "    img = img.convert('RGB')\n",
    "    img.save('data/dress_images_hr/' + str(i) + '.' + ext)\n",
    "    del img"
   ]
  },
  {
   "cell_type": "code",
   "execution_count": 6,
   "metadata": {},
   "outputs": [],
   "source": [
    "# create array of shapes for high res images\n",
    "Image.MAX_IMAGE_PIXELS = None\n",
    "shapes_hr = pd.DataFrame(0, index=range(len(dresses)), columns=[0,1,2])\n",
    "for i in range(len(dresses)):\n",
    "    img = plt.imread('data/dress_images_hr/' + str(i)+'.jpg')\n",
    "    shapes_hr.loc[i,:]=list(img.shape)\n",
    "    del img\n"
   ]
  },
  {
   "cell_type": "code",
   "execution_count": 10,
   "metadata": {},
   "outputs": [
    {
     "data": {
      "image/png": "[encoded data removed]",
      "text/plain": [
       "<Figure size 432x288 with 1 Axes>"
      ]
     },
     "metadata": {
      "needs_background": "light"
     },
     "output_type": "display_data"
    }
   ],
   "source": [
    "# plot distribution of high resolution images height and width\n",
    "ax = plt.subplot()\n",
    "sns.kdeplot(data=shapes_hr.loc[:,0],ax=ax, label='height')\n",
    "sns.kdeplot(data=shapes_hr.loc[:,1], ax=ax, label='width')\n",
    "plt.xlim([0,1500])\n",
    "plt.title('Distribution of height and width for high resolution images')\n",
    "plt.show()"
   ]
  },
  {
   "cell_type": "markdown",
   "metadata": {},
   "source": [
    "Interestingly, the peaks of the high resolution image sizes are on the lower ends of the size variations, as opposed to low resolution images, where the peaks were on the higher end.\n",
    "\n",
    "Also in case of high resolution images the width choice is more obvious than for the height. In this case I will use  300 for width and 450 (which is in proportion to 300x200 low resolution selection) for height. This will be the next size to try for deep learning model. In case it does not provide good outcomes, I will increase the size proportionally."
   ]
  }
 ],
 "metadata": {
  "kernelspec": {
   "display_name": "Python 3",
   "language": "python",
   "name": "python3"
  },
  "language_info": {
   "codemirror_mode": {
    "name": "ipython",
    "version": 3
   },
   "file_extension": ".py",
   "mimetype": "text/x-python",
   "name": "python",
   "nbconvert_exporter": "python",
   "pygments_lexer": "ipython3",
   "version": "3.7.3"
  }
 },
 "nbformat": 4,
 "nbformat_minor": 2
}
